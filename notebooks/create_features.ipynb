{
 "cells": [
  {
   "cell_type": "code",
   "execution_count": 2,
   "metadata": {},
   "outputs": [],
   "source": [
    "import numpy as np"
   ]
  },
  {
   "cell_type": "code",
   "execution_count": 30,
   "metadata": {},
   "outputs": [],
   "source": [
    "l1 = np.array([1,2,-1,-2,3,-1,-4,10])"
   ]
  },
  {
   "cell_type": "code",
   "execution_count": 31,
   "metadata": {},
   "outputs": [
    {
     "data": {
      "text/plain": [
       "1"
      ]
     },
     "execution_count": 31,
     "metadata": {},
     "output_type": "execute_result"
    }
   ],
   "source": [
    "change_of_sign =l1[1:] * l1[:-1]\n",
    "change_of_sign[change_of_sign<-10].shape[0]"
   ]
  },
  {
   "cell_type": "code",
   "execution_count": 48,
   "metadata": {},
   "outputs": [],
   "source": [
    "def new_feature(x, mean_size):\n",
    "    diff = np.abs(x[:-1] - x[1:])\n",
    "    mean_diff = np.convolve(diff, np.ones(mean_size), 'valid') / mean_size\n",
    "    diff = diff[mean_size:]\n",
    "    mean_diff = mean_diff[:-1]\n",
    "    print(diff.shape, mean_diff.shape)\n",
    "    print(list(zip(x[mean_size:], zip(diff, mean_diff))))\n",
    "    return diff / mean_diff"
   ]
  },
  {
   "cell_type": "code",
   "execution_count": 51,
   "metadata": {},
   "outputs": [
    {
     "name": "stdout",
     "output_type": "stream",
     "text": [
      "(6,) (6,)\n",
      "[(229, (709, 184.75)), (-480, (1289, 349.5)), (809, (409, 636.75)), (400, (1300, 686.5)), (-900, (1480, 926.75)), (580, (1420, 1119.5))]\n"
     ]
    },
    {
     "data": {
      "text/plain": [
       "array([3.8376184 , 3.68812589, 0.6423243 , 1.89366351, 1.59697869,\n",
       "       1.2684234 ])"
      ]
     },
     "execution_count": 51,
     "metadata": {},
     "output_type": "execute_result"
    }
   ],
   "source": [
    "new_feature(np.array([10,-40,100,-110,229,-480,809,400,-900,580,2000]), 4)"
   ]
  },
  {
   "cell_type": "code",
   "execution_count": 35,
   "metadata": {},
   "outputs": [
    {
     "data": {
      "text/plain": [
       "array([ 1,  3,  5,  7,  9, 11, 13, 15, 17])"
      ]
     },
     "execution_count": 35,
     "metadata": {},
     "output_type": "execute_result"
    }
   ],
   "source": [
    "np.convolve(np.arange(10), [1, 1], 'valid')"
   ]
  },
  {
   "cell_type": "code",
   "execution_count": null,
   "metadata": {},
   "outputs": [],
   "source": []
  }
 ],
 "metadata": {
  "kernelspec": {
   "display_name": "Python 3",
   "language": "python",
   "name": "python3"
  },
  "language_info": {
   "codemirror_mode": {
    "name": "ipython",
    "version": 3
   },
   "file_extension": ".py",
   "mimetype": "text/x-python",
   "name": "python",
   "nbconvert_exporter": "python",
   "pygments_lexer": "ipython3",
   "version": "3.8.0"
  }
 },
 "nbformat": 4,
 "nbformat_minor": 4
}
