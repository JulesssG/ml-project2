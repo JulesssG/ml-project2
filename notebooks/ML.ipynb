{
 "cells": [
  {
   "cell_type": "code",
   "execution_count": 1,
   "metadata": {},
   "outputs": [],
   "source": [
    "%load_ext autoreload\n",
    "%autoreload 2\n",
    "import os\n",
    "import sys\n",
    "import pandas as pd\n",
    "import numpy as np\n",
    "import re\n",
    "import matplotlib.pyplot as plt"
   ]
  },
  {
   "cell_type": "code",
   "execution_count": 2,
   "metadata": {},
   "outputs": [],
   "source": [
    "scripts_path = os.path.abspath(os.path.join('../scripts'))\n",
    "if scripts_path not in sys.path:\n",
    "    sys.path.insert(0,scripts_path)"
   ]
  },
  {
   "cell_type": "code",
   "execution_count": 3,
   "metadata": {},
   "outputs": [],
   "source": [
    "from station_location import *"
   ]
  },
  {
   "cell_type": "code",
   "execution_count": 19,
   "metadata": {},
   "outputs": [],
   "source": [
    "X_train = pd.read_csv('../processed-data/X_train.csv', index_col=0).values\n",
    "X_test = pd.read_csv('../processed-data/X_test.csv', index_col=0).values\n",
    "y_train = pd.read_csv('../processed-data/y_train.csv', index_col=0).values.reshape(-1,)\n",
    "y_test = pd.read_csv('../processed-data/y_test.csv', index_col=0).values.reshape(-1,)"
   ]
  },
  {
   "cell_type": "code",
   "execution_count": 20,
   "metadata": {},
   "outputs": [
    {
     "data": {
      "text/plain": [
       "(239259, 7)"
      ]
     },
     "execution_count": 20,
     "metadata": {},
     "output_type": "execute_result"
    }
   ],
   "source": [
    "X_train.shape"
   ]
  },
  {
   "cell_type": "code",
   "execution_count": 21,
   "metadata": {},
   "outputs": [
    {
     "data": {
      "text/plain": [
       "(239259,)"
      ]
     },
     "execution_count": 21,
     "metadata": {},
     "output_type": "execute_result"
    }
   ],
   "source": [
    "y_train.shape"
   ]
  },
  {
   "cell_type": "code",
   "execution_count": 22,
   "metadata": {},
   "outputs": [
    {
     "data": {
      "text/plain": [
       "(59815, 7)"
      ]
     },
     "execution_count": 22,
     "metadata": {},
     "output_type": "execute_result"
    }
   ],
   "source": [
    "X_test.shape"
   ]
  },
  {
   "cell_type": "code",
   "execution_count": 23,
   "metadata": {},
   "outputs": [
    {
     "data": {
      "text/plain": [
       "(59815,)"
      ]
     },
     "execution_count": 23,
     "metadata": {},
     "output_type": "execute_result"
    }
   ],
   "source": [
    "y_test.shape"
   ]
  },
  {
   "cell_type": "code",
   "execution_count": 56,
   "metadata": {},
   "outputs": [],
   "source": [
    "from sklearn.metrics import accuracy_score, f1_score, recall_score, precision_score\n",
    "from sklearn.ensemble import RandomForestClassifier\n",
    "from sklearn.neighbors import KNeighborsClassifier\n",
    "from sklearn.ensemble import GradientBoostingClassifier"
   ]
  },
  {
   "cell_type": "code",
   "execution_count": 27,
   "metadata": {},
   "outputs": [],
   "source": [
    "knn = KNeighborsClassifier(n_neighbors=5)\n",
    "knn.fit(X_train, y_train)\n",
    "pred = knn.predict(X_test)"
   ]
  },
  {
   "cell_type": "code",
   "execution_count": 110,
   "metadata": {},
   "outputs": [],
   "source": [
    "def show_accuracy(pred, true, set_):\n",
    "    print(f\"Predicted earthquakes: {pred[pred==1].shape[0]}\")\n",
    "    print(f\"{set_} Accuracy: {accuracy_score(true, pred)}\")\n",
    "    print(f\"{set_} Precision: {precision_score(true, pred)}\")\n",
    "    print(f\"{set_} Recall: {recall_score(true, pred)}\")\n",
    "    print(f\"{set_} F1 score: {f1_score(true, pred)}\")"
   ]
  },
  {
   "cell_type": "code",
   "execution_count": 111,
   "metadata": {},
   "outputs": [],
   "source": [
    "def predict(model):\n",
    "    pred_train = model.predict(X_train)\n",
    "    pred_test = model.predict(X_test)\n",
    "    show_accuracy(pred_train, y_train, \"Train\")\n",
    "    print(\"\")\n",
    "    show_accuracy(pred_test, y_test, \"Test\") "
   ]
  },
  {
   "cell_type": "code",
   "execution_count": 74,
   "metadata": {},
   "outputs": [
    {
     "name": "stdout",
     "output_type": "stream",
     "text": [
      " Predicted earthquakes: 1123\n",
      "Train Accuracy: 0.99987879243832\n",
      "Train Precision: 1.0\n",
      "Train Recall: 0.9748263888888888\n",
      "Train F1 score: 0.9872527472527473\n",
      " Predicted earthquakes: 8\n",
      "Test Accuracy: 0.9941653431413525\n",
      "Test Precision: 0.125\n",
      "Test Recall: 0.0029154518950437317\n",
      "Test F1 score: 0.005698005698005698\n"
     ]
    }
   ],
   "source": [
    "rfc = RandomForestClassifier(n_estimators=50, class_weight={0: 0.000001, 1: 0.999999}, n_jobs=8)\n",
    "rfc.fit(X_train, y_train)\n",
    "predict(rfc)"
   ]
  },
  {
   "cell_type": "code",
   "execution_count": 77,
   "metadata": {},
   "outputs": [
    {
     "name": "stdout",
     "output_type": "stream",
     "text": [
      " Predicted earthquakes: 611\n",
      "Train Accuracy: 0.9973041766453926\n",
      "Train Precision: 0.9148936170212766\n",
      "Train Recall: 0.4852430555555556\n",
      "Train F1 score: 0.6341463414634146\n",
      "\n",
      " Predicted earthquakes: 899\n",
      "Test Accuracy: 0.979536905458497\n",
      "Test Precision: 0.010011123470522803\n",
      "Test Recall: 0.026239067055393587\n",
      "Test F1 score: 0.014492753623188406\n"
     ]
    }
   ],
   "source": [
    "gbt = GradientBoostingClassifier(n_estimators=500)\n",
    "gbt.fit(X_train, y_train)\n",
    "predict(gbt)"
   ]
  },
  {
   "cell_type": "code",
   "execution_count": 100,
   "metadata": {},
   "outputs": [
    {
     "data": {
      "text/plain": [
       "(239259, 7)"
      ]
     },
     "execution_count": 100,
     "metadata": {},
     "output_type": "execute_result"
    }
   ],
   "source": [
    "X_train.shape"
   ]
  },
  {
   "cell_type": "code",
   "execution_count": 104,
   "metadata": {},
   "outputs": [
    {
     "data": {
      "text/plain": [
       "(239259, 2)"
      ]
     },
     "execution_count": 104,
     "metadata": {},
     "output_type": "execute_result"
    }
   ],
   "source": [
    "X_2 = X_train[:, 5:7]\n",
    "X_2.shape"
   ]
  },
  {
   "cell_type": "code",
   "execution_count": 105,
   "metadata": {},
   "outputs": [
    {
     "data": {
      "text/plain": [
       "0.021363796398600001"
      ]
     },
     "execution_count": 105,
     "metadata": {},
     "output_type": "execute_result"
    }
   ],
   "source": [
    "X_2[:,1].min()"
   ]
  },
  {
   "cell_type": "code",
   "execution_count": 109,
   "metadata": {},
   "outputs": [
    {
     "data": {
      "text/plain": [
       "<matplotlib.collections.PathCollection at 0x7efe315e42e0>"
      ]
     },
     "execution_count": 109,
     "metadata": {},
     "output_type": "execute_result"
    },
    {
     "data": {
      "image/png": "[encoded data removed]",
      "text/plain": [
       "<Figure size 576x432 with 1 Axes>"
      ]
     },
     "metadata": {
      "needs_background": "light"
     },
     "output_type": "display_data"
    }
   ],
   "source": [
    "plt.figure(figsize=(8,6))\n",
    "\n",
    "plt.scatter(X_2[y_train==1,0][:10000], X_2[y_train==1,1][:10000], c='red')\n",
    "plt.scatter(X_2[y_train==0,0][:10000], X_2[y_train==0,1][:10000], c='blue')\n",
    "#plt.ylim(-2, 2500)"
   ]
  }
 ],
 "metadata": {
  "kernelspec": {
   "display_name": "Python 3",
   "language": "python",
   "name": "python3"
  },
  "language_info": {
   "codemirror_mode": {
    "name": "ipython",
    "version": 3
   },
   "file_extension": ".py",
   "mimetype": "text/x-python",
   "name": "python",
   "nbconvert_exporter": "python",
   "pygments_lexer": "ipython3",
   "version": "3.8.0"
  }
 },
 "nbformat": 4,
 "nbformat_minor": 4
}
