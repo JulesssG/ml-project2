{
 "cells": [
  {
   "cell_type": "code",
   "execution_count": 1,
   "metadata": {
    "Collapsed": "false"
   },
   "outputs": [],
   "source": [
    "%load_ext autoreload\n",
    "%autoreload 2\n",
    "import os\n",
    "import sys\n",
    "import pandas as pd\n",
    "import numpy as np\n",
    "import re\n",
    "import matplotlib.pyplot as plt"
   ]
  },
  {
   "cell_type": "code",
   "execution_count": 2,
   "metadata": {
    "Collapsed": "false"
   },
   "outputs": [],
   "source": [
    "scripts_path = os.path.abspath(os.path.join('../scripts'))\n",
    "if scripts_path not in sys.path:\n",
    "    sys.path.insert(0,scripts_path)"
   ]
  },
  {
   "cell_type": "code",
   "execution_count": 4,
   "metadata": {
    "Collapsed": "false"
   },
   "outputs": [],
   "source": [
    "from station_location import *"
   ]
  },
  {
   "cell_type": "code",
   "execution_count": 5,
   "metadata": {
    "Collapsed": "false"
   },
   "outputs": [],
   "source": [
    "X_train = pd.read_csv('../processed-data/X_train.csv', index_col=0).values\n",
    "X_test = pd.read_csv('../processed-data/X_test.csv', index_col=0).values\n",
    "y_train = pd.read_csv('../processed-data/y_train.csv', index_col=0).values.reshape(-1,)\n",
    "y_test = pd.read_csv('../processed-data/y_test.csv', index_col=0).values.reshape(-1,)"
   ]
  },
  {
   "cell_type": "code",
   "execution_count": 6,
   "metadata": {
    "Collapsed": "false"
   },
   "outputs": [
    {
     "data": {
      "text/plain": [
       "(239259, 7)"
      ]
     },
     "execution_count": 6,
     "metadata": {},
     "output_type": "execute_result"
    }
   ],
   "source": [
    "X_train.shape"
   ]
  },
  {
   "cell_type": "code",
   "execution_count": 7,
   "metadata": {
    "Collapsed": "false"
   },
   "outputs": [
    {
     "data": {
      "text/plain": [
       "(239259,)"
      ]
     },
     "execution_count": 7,
     "metadata": {},
     "output_type": "execute_result"
    }
   ],
   "source": [
    "y_train.shape"
   ]
  },
  {
   "cell_type": "code",
   "execution_count": 8,
   "metadata": {
    "Collapsed": "false"
   },
   "outputs": [
    {
     "data": {
      "text/plain": [
       "(59815, 7)"
      ]
     },
     "execution_count": 8,
     "metadata": {},
     "output_type": "execute_result"
    }
   ],
   "source": [
    "X_test.shape"
   ]
  },
  {
   "cell_type": "code",
   "execution_count": 9,
   "metadata": {
    "Collapsed": "false"
   },
   "outputs": [
    {
     "data": {
      "text/plain": [
       "(59815,)"
      ]
     },
     "execution_count": 9,
     "metadata": {},
     "output_type": "execute_result"
    }
   ],
   "source": [
    "y_test.shape"
   ]
  },
  {
   "cell_type": "code",
   "execution_count": 10,
   "metadata": {
    "Collapsed": "false"
   },
   "outputs": [],
   "source": [
    "from sklearn.metrics import accuracy_score, f1_score, recall_score, precision_score\n",
    "from sklearn.ensemble import RandomForestClassifier\n",
    "from sklearn.neighbors import KNeighborsClassifier\n",
    "from sklearn.ensemble import GradientBoostingClassifier"
   ]
  },
  {
   "cell_type": "code",
   "execution_count": 27,
   "metadata": {
    "Collapsed": "false"
   },
   "outputs": [],
   "source": [
    "knn = KNeighborsClassifier(n_neighbors=5)\n",
    "knn.fit(X_train, y_train)\n",
    "pred = knn.predict(X_test)"
   ]
  },
  {
   "cell_type": "code",
   "execution_count": 37,
   "metadata": {
    "Collapsed": "false"
   },
   "outputs": [],
   "source": [
    "def show_accuracy(pred):\n",
    "    print(pred[pred==1].shape[0], 'eq, total is ', pred[pred==0].shape[0])\n",
    "    print(((y_test==1) & (1==pred)).sum())\n",
    "    print(f\"Train Accuracy: {accuracy_score(y_test, pred)}\")\n",
    "    print(f\"Train Precision: {precision_score(y_test, pred)}\")\n",
    "    print(f\"Train Recall: {recall_score(y_test, pred)}\")\n",
    "    print(f\"Train F1 score: {f1_score(y_test, pred)}\")"
   ]
  },
  {
   "cell_type": "code",
   "execution_count": 38,
   "metadata": {
    "Collapsed": "false"
   },
   "outputs": [
    {
     "name": "stdout",
     "output_type": "stream",
     "text": [
      "59815 eq, total is  0\n",
      "343\n",
      "Train Accuracy: 0.005734347571679344\n",
      "Train Precision: 0.005734347571679344\n",
      "Train Recall: 1.0\n",
      "Train F1 score: 0.011403304631138002\n"
     ]
    }
   ],
   "source": [
    "show_accuracy(pred)"
   ]
  },
  {
   "cell_type": "code",
   "execution_count": 95,
   "metadata": {
    "Collapsed": "false"
   },
   "outputs": [],
   "source": [
    "from sklearn.linear_model import RidgeClassifier"
   ]
  },
  {
   "cell_type": "code",
   "execution_count": 96,
   "metadata": {
    "Collapsed": "false"
   },
   "outputs": [],
   "source": [
    "X_train_expanded = feature_expansion(X_train)\n",
    "X_test_expanded = feature_expansion(X_test)"
   ]
  },
  {
   "cell_type": "code",
   "execution_count": 97,
   "metadata": {
    "Collapsed": "false"
   },
   "outputs": [
    {
     "data": {
      "text/plain": [
       "(239259, 31)"
      ]
     },
     "execution_count": 97,
     "metadata": {},
     "output_type": "execute_result"
    }
   ],
   "source": [
    "X_train_expanded.shape"
   ]
  },
  {
   "cell_type": "code",
   "execution_count": 98,
   "metadata": {
    "Collapsed": "false"
   },
   "outputs": [
    {
     "name": "stderr",
     "output_type": "stream",
     "text": [
      "/home/flo/EPFL/.venv-3.7.0/lib/python3.7/site-packages/sklearn/linear_model/ridge.py:147: LinAlgWarning: Ill-conditioned matrix (rcond=4.44783e-20): result may not be accurate.\n",
      "  overwrite_a=True).T\n"
     ]
    }
   ],
   "source": [
    "clf = RidgeClassifier(class_weight={0:0.009, 1:0.991}, alpha=0.9)\n",
    "clf.fit(X_train_expanded, y_train)\n",
    "pred = clf.predict(X_test_expanded)\n",
    "pred[pred > 0.5] = 1\n",
    "pred[pred <= 0.5] = 0"
   ]
  },
  {
   "cell_type": "code",
   "execution_count": 99,
   "metadata": {
    "Collapsed": "false"
   },
   "outputs": [
    {
     "data": {
      "text/plain": [
       "(59815,)"
      ]
     },
     "execution_count": 99,
     "metadata": {},
     "output_type": "execute_result"
    }
   ],
   "source": [
    "pred.shape"
   ]
  },
  {
   "cell_type": "code",
   "execution_count": 100,
   "metadata": {
    "Collapsed": "false"
   },
   "outputs": [
    {
     "name": "stdout",
     "output_type": "stream",
     "text": [
      "36939 eq, total is  22876\n",
      "229\n",
      "Train Accuracy: 0.384368469447463\n",
      "Train Precision: 0.006199409837840764\n",
      "Train Recall: 0.6676384839650146\n",
      "Train F1 score: 0.012284748672281529\n"
     ]
    }
   ],
   "source": [
    "show_accuracy(pred)"
   ]
  },
  {
   "cell_type": "code",
   "execution_count": 101,
   "metadata": {
    "Collapsed": "false"
   },
   "outputs": [],
   "source": [
    "def feature_expansion(tx):\n",
    "    \"\"\"\n",
    "    Expand the data by adding, sqrt, cos and sin. Assumes that the data is biased.\n",
    "\n",
    "    Parameters:\n",
    "    tx: The data\n",
    "\n",
    "    Returns:\n",
    "    Expanded data tx\n",
    "    \"\"\"\n",
    "    x_copy = tx.copy()\n",
    "    for feature in tx.T[1:]:\n",
    "        x_copy = np.hstack((x_copy, (np.sqrt(np.abs(feature)) * np.sign(feature)).reshape(feature.shape[0], 1)))\n",
    "        x_copy = np.hstack((x_copy, np.cos(feature).reshape((feature.shape[0], 1))))\n",
    "        x_copy = np.hstack((x_copy, np.sin(feature).reshape((feature.shape[0], 1))))\n",
    "        x_copy = np.hstack((x_copy, feature.reshape((x_copy.shape[0], 1)) ** 2))\n",
    "    return x_copy"
   ]
  },
  {
   "cell_type": "code",
   "execution_count": 197,
   "metadata": {
    "Collapsed": "false"
   },
   "outputs": [],
   "source": [
    "import torch\n",
    "import torch.nn as nn\n",
    "import torch.nn.functional as F\n",
    "from torch.autograd import Variable\n",
    "\n",
    "class Net(nn.Module):\n",
    "\n",
    "    def __init__(self):\n",
    "        super(Net, self).__init__()\n",
    "        self.fc1 = nn.Linear(7, 100)  # 6*6 from image dimension\n",
    "        #self.fc2 = nn.Linear(120, 256)\n",
    "        #self.fc3 = nn.Linear(256, 500)\n",
    "        #self.fc4 = nn.Linear(1000, 500)\n",
    "        #self.fc5 = nn.Linear(500, 200)\n",
    "        #self.fc6 = nn.Linear(200, 100)\n",
    "        self.fc7 = nn.Linear(100, 10)\n",
    "        self.fc8 = nn.Linear(10, 2)\n",
    "\n",
    "    def forward(self, x):\n",
    "        # Max pooling over a (2, 2) window\n",
    "        x = F.relu(self.fc1(x))\n",
    "        #x = F.relu(self.fc2(x))\n",
    "        #x = F.relu(self.fc3(x))\n",
    "        #x = F.relu(self.fc4(x))\n",
    "        #x = F.relu(self.fc5(x))\n",
    "        #x = F.relu(self.fc6(x))\n",
    "        x = F.relu(self.fc7(x))\n",
    "        x = self.fc8(x)\n",
    "        return x"
   ]
  },
  {
   "cell_type": "code",
   "execution_count": 211,
   "metadata": {
    "Collapsed": "false"
   },
   "outputs": [],
   "source": [
    "def train(features, labels, model, lossfunc, optimizer, num_epoch):\n",
    "    torch_inputs = torch.from_numpy(features)\n",
    "    torch_outputs = labels\n",
    "    \n",
    "    for epoch in range(num_epoch):\n",
    "        # TODO: Step 1 - create torch variables corresponding to features and labels\n",
    "        # TODO: Step 2 - compute model predictions and loss\n",
    "        torch_pred = model(torch_inputs)\n",
    "        loss = lossfunc(torch_pred, torch_outputs)\n",
    "        # TODO: Step 3 - do a backward pass and a gradient update step\n",
    "        optimizer.zero_grad()\n",
    "        loss.backward()\n",
    "        optimizer.step()\n",
    "        \n",
    "        if epoch % 10 == 0:\n",
    "            print ('Epoch [%d/%d], Loss: %.4f' \n",
    "                   %(epoch+1, num_epoch, loss))\n"
   ]
  },
  {
   "cell_type": "code",
   "execution_count": 212,
   "metadata": {
    "Collapsed": "false"
   },
   "outputs": [
    {
     "data": {
      "text/plain": [
       "array([[ 1.,  0.],\n",
       "       [ 1.,  0.],\n",
       "       [ 1.,  0.],\n",
       "       ..., \n",
       "       [ 1.,  0.],\n",
       "       [ 1.,  0.],\n",
       "       [ 1.,  0.]], dtype=float32)"
      ]
     },
     "execution_count": 212,
     "metadata": {},
     "output_type": "execute_result"
    }
   ],
   "source": [
    "labels = y_train.reshape(-1,1).astype(np.float32)\n",
    "labels = np.hstack((labels, labels))\n",
    "labels[labels[:,0]==1,0]=2\n",
    "labels[labels[:,0]==0,0]=1\n",
    "labels[labels[:,0]==2,0]=0\n",
    "labels"
   ]
  },
  {
   "cell_type": "code",
   "execution_count": 215,
   "metadata": {
    "Collapsed": "false"
   },
   "outputs": [
    {
     "name": "stdout",
     "output_type": "stream",
     "text": [
      "Epoch [1/240], Loss: 42.4427\n",
      "Epoch [11/240], Loss: 0.5244\n",
      "Epoch [21/240], Loss: 0.4336\n",
      "Epoch [31/240], Loss: 0.3528\n",
      "Epoch [41/240], Loss: 0.2831\n",
      "Epoch [51/240], Loss: 0.2242\n",
      "Epoch [61/240], Loss: 0.1754\n",
      "Epoch [71/240], Loss: 0.1355\n",
      "Epoch [81/240], Loss: 0.1035\n",
      "Epoch [91/240], Loss: 0.0782\n",
      "Epoch [101/240], Loss: 0.0585\n",
      "Epoch [111/240], Loss: 0.0435\n",
      "Epoch [121/240], Loss: 0.0322\n",
      "Epoch [131/240], Loss: 0.0239\n",
      "Epoch [141/240], Loss: 0.0179\n",
      "Epoch [151/240], Loss: 0.0136\n",
      "Epoch [161/240], Loss: 0.0106\n",
      "Epoch [171/240], Loss: 0.0086\n",
      "Epoch [181/240], Loss: 0.0072\n",
      "Epoch [191/240], Loss: 0.0063\n",
      "Epoch [201/240], Loss: 0.0057\n",
      "Epoch [211/240], Loss: 0.0053\n",
      "Epoch [221/240], Loss: 0.0051\n",
      "Epoch [231/240], Loss: 0.0050\n"
     ]
    }
   ],
   "source": [
    "import torch.optim as optim\n",
    "\n",
    "# create your optimizer\n",
    "model = Net()\n",
    "optimizer = optim.Adam(model.parameters(), lr=0.01)\n",
    "lossfunc = torch.nn.CrossEntropyLoss(weight=torch.from_numpy(np.array([0.001, 1.0], dtype=np.float32)))\n",
    "lossfunc = torch.nn.MSELoss()\n",
    "\n",
    "train(features = X_train.astype(np.float32),\n",
    "      labels = torch.tensor(labels),\n",
    "      model = model,\n",
    "      lossfunc = lossfunc, \n",
    "      optimizer = optimizer,\n",
    "      num_epoch = 240)"
   ]
  },
  {
   "cell_type": "code",
   "execution_count": 216,
   "metadata": {
    "Collapsed": "false"
   },
   "outputs": [],
   "source": [
    "pred = model.forward(torch.from_numpy(X_test.astype(np.float32))).detach().numpy()"
   ]
  },
  {
   "cell_type": "code",
   "execution_count": 217,
   "metadata": {
    "Collapsed": "false"
   },
   "outputs": [
    {
     "data": {
      "text/plain": [
       "array([[ 0.9805251 ,  0.00481522],\n",
       "       [ 0.9805251 ,  0.00481522],\n",
       "       [ 0.9805251 ,  0.00481522],\n",
       "       ..., \n",
       "       [ 0.9805251 ,  0.00481522],\n",
       "       [ 0.9805251 ,  0.00481522],\n",
       "       [ 0.9805251 ,  0.00481522]], dtype=float32)"
      ]
     },
     "execution_count": 217,
     "metadata": {},
     "output_type": "execute_result"
    }
   ],
   "source": [
    "pred"
   ]
  },
  {
   "cell_type": "code",
   "execution_count": 234,
   "metadata": {
    "Collapsed": "false"
   },
   "outputs": [
    {
     "data": {
      "text/plain": [
       "59815"
      ]
     },
     "execution_count": 234,
     "metadata": {},
     "output_type": "execute_result"
    }
   ],
   "source": [
    "np.sum(pred[:,1]>0.00481522)"
   ]
  },
  {
   "cell_type": "code",
   "execution_count": 165,
   "metadata": {
    "Collapsed": "false"
   },
   "outputs": [
    {
     "data": {
      "text/plain": [
       "357"
      ]
     },
     "execution_count": 165,
     "metadata": {},
     "output_type": "execute_result"
    }
   ],
   "source": [
    "(pred >= 0.016).sum()"
   ]
  },
  {
   "cell_type": "code",
   "execution_count": 166,
   "metadata": {
    "Collapsed": "false"
   },
   "outputs": [
    {
     "data": {
      "text/plain": [
       "343.0"
      ]
     },
     "execution_count": 166,
     "metadata": {},
     "output_type": "execute_result"
    }
   ],
   "source": [
    "pred[pred >= 0.016] = 1\n",
    "pred[pred < 0.016] = 0\n",
    "y_test.sum()"
   ]
  },
  {
   "cell_type": "code",
   "execution_count": 167,
   "metadata": {
    "Collapsed": "false"
   },
   "outputs": [
    {
     "name": "stdout",
     "output_type": "stream",
     "text": [
      "357 eq, total is  59458\n",
      "122451\n",
      "Train Accuracy: 0.9884309955696732\n",
      "Train Precision: 0.011204481792717087\n",
      "Train Recall: 0.011661807580174927\n",
      "Train F1 score: 0.011428571428571429\n"
     ]
    }
   ],
   "source": [
    "show_accuracy(pred)"
   ]
  },
  {
   "cell_type": "code",
   "execution_count": null,
   "metadata": {
    "Collapsed": "false"
   },
   "outputs": [],
   "source": []
  }
 ],
 "metadata": {
  "kernelspec": {
   "display_name": "Python 3",
   "language": "python",
   "name": "python3"
  },
  "language_info": {
   "codemirror_mode": {
    "name": "ipython",
    "version": 3
   },
   "file_extension": ".py",
   "mimetype": "text/x-python",
   "name": "python",
   "nbconvert_exporter": "python",
   "pygments_lexer": "ipython3",
   "version": "3.7.0"
  }
 },
 "nbformat": 4,
 "nbformat_minor": 4
}
